{
  "nbformat": 4,
  "nbformat_minor": 0,
  "metadata": {
    "colab": {
      "provenance": [],
      "toc_visible": true,
      "authorship_tag": "ABX9TyO7PO/XFANB/PWz3pQen+91",
      "include_colab_link": true
    },
    "kernelspec": {
      "name": "python3",
      "display_name": "Python 3"
    },
    "language_info": {
      "name": "python"
    }
  },
  "cells": [
    {
      "cell_type": "markdown",
      "metadata": {
        "id": "view-in-github",
        "colab_type": "text"
      },
      "source": [
        "<a href=\"https://colab.research.google.com/github/ellenwang995/final_project/blob/main/USElectricityMarkets.ipynb\" target=\"_parent\"><img src=\"https://colab.research.google.com/assets/colab-badge.svg\" alt=\"Open In Colab\"/></a>"
      ]
    },
    {
      "cell_type": "markdown",
      "source": [
        "\n",
        "# **Variation in US Retail Electricity Price Growth**\n",
        "##### *Python for Public Policy - Final Project*\n",
        "##### *Ellen Wang*\n",
        "##### *UNI: elw2164*\n",
        "\n",
        "\n",
        "\n",
        "---\n",
        "\n",
        "\n",
        "---"
      ],
      "metadata": {
        "id": "Iy4_5fy6exix"
      }
    },
    {
      "cell_type": "markdown",
      "source": [
        "## **Introduction:**\n",
        "Amidst the AI craze of the past few years, there has been growing concern that the increased demand for electricity to power large data centers will pose a threat to energy accessibility and affordability. However, this concern with rising electricity prices is not new. A New Berkeley Lab report published early 2025 discusses how residential retail prices, post-2021, have been increasing faster than inflation, meaning that real prices of retail electricity for residential consumers has been increasing.\n",
        "\n",
        "However, what is interesting is that the increase in retail electricity price at the national level can not be attributed to increased demand, as retail electricity sales stayed relatively constant from 2019-2023 (Energy Markets and Policy Lab - Berkeley Lab 2025). The main area of increased cost from 2019-2024 was the augmentation of capital expenditures on distribution infrastructure as well as distribution operations and maintenance expenditures.\n",
        "\n",
        "Characteristics of distribution infrastructure and maintenance needs are likely to be unique to different grids in the US. Thus, for this project, I am interested in comparing residential retail electricity prices in two of the largest electricity grids in the US—CAISO (California) and ERCOT (Texas)—and the factors that could impact these price differentials.\n",
        "\n"
      ],
      "metadata": {
        "id": "tRxJVAvKCoec"
      }
    },
    {
      "cell_type": "markdown",
      "source": [
        "\n",
        "\n",
        "---\n",
        "\n",
        "\n",
        "## **Methodology:**\n",
        "\n",
        "For this research, I will use the Pandas, Poltly, NLTK, Matplotlib and PyPDF2 libraries in python to assess price differentials in residential retail electricity prices and the potential reasons for these price differentials. The paper will be structured into three sections: comparing prices and demand in the retail electricity market, examining prices and supply composition in the wholesale market, and investigating changes in electricity market regulation.\n",
        "\n",
        "#### *Retail Electricity Market*\n",
        "\n",
        "To first understand the difference between residential retail electricity prices in ERCOT and CAISO, I will use Pandas to explore, clean, and organize data sourced from the U.S. Energy Information Administration (U.S. Energy Information Administration 2025). This data shows residential electricity prices and total sales for each state, every month spanning from 2010 to July 2025. After cleaning the data, I will use Poltly to graph the prices and sales in Texas and California to compare the markets in the two states.\n",
        "\n",
        "#### *Wholesale Electricity Market*\n",
        "\n",
        "Next, I will use data sourced from the Energy Markets and Policy Lab branch of Berkeley Lab that shows wholesale electricity prices and load composition (two categories of renewable energy—or wind and utility solar—and non-renewable energy) for seven different grids in the US. Prices and load composition are shown hourly by season for each grid (Energy Markets and Policy Lab - Berkeley Lab 2024). Again for this data, I will use Pandas to explore and clean the data. Specifically for this dataset, I will need to mutate the dataframe to add two variables: the average seasonal wholesale price for each year and the proportion of renewable energy load for each year (as a weighted average). I will then use Poltly to graph and analyze average seasonal wholesale prices and the change in proportion of renewable energy load on the CAISO and ERCOT grid.\n",
        "\n",
        "#### *Market Regulation*\n",
        "\n",
        "Finally, I will use NLTK, PyPDF2, and Matplotlib to assess three regulation documents regarding changes in retail electricity price formulation in CAISO from 2017-2026, specifically for the largest utility company in California—Pacific Gas & Electric. The regulation documents are sourced from the California Public Utilities Commission website as PDFs, which will then be converted into text using PyPDF2. I will then use tools from NLTK such as tokenization, lemmetization, and cleaning for stopwords to organize the texts. These normalized texts will then be run through the frequency distribution tool in NLTK, allowing me to assess the change in rationale for increasing retail electricity prices from 2017-2026.\n"
      ],
      "metadata": {
        "id": "w27SCOvzoMN1"
      }
    },
    {
      "cell_type": "markdown",
      "source": [
        "\n",
        "\n",
        "---\n",
        "\n",
        "## **Results:**"
      ],
      "metadata": {
        "id": "cvj7dAQkqPvW"
      }
    },
    {
      "cell_type": "markdown",
      "source": [
        "\n",
        "\n",
        "---\n",
        "\n",
        "## **Conclusion & Discussion:**"
      ],
      "metadata": {
        "id": "l7UmWDE3qV_T"
      }
    }
  ]
}