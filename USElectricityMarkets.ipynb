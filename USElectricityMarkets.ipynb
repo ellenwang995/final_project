{
  "nbformat": 4,
  "nbformat_minor": 0,
  "metadata": {
    "colab": {
      "provenance": [],
      "authorship_tag": "ABX9TyNmqwMUjBL+tLgXufWQL0V1",
      "include_colab_link": true
    },
    "kernelspec": {
      "name": "python3",
      "display_name": "Python 3"
    },
    "language_info": {
      "name": "python"
    }
  },
  "cells": [
    {
      "cell_type": "markdown",
      "metadata": {
        "id": "view-in-github",
        "colab_type": "text"
      },
      "source": [
        "<a href=\"https://colab.research.google.com/github/ellenwang995/final_project/blob/main/USElectricityMarkets.ipynb\" target=\"_parent\"><img src=\"https://colab.research.google.com/assets/colab-badge.svg\" alt=\"Open In Colab\"/></a>"
      ]
    },
    {
      "cell_type": "markdown",
      "source": [
        "\n",
        "# **Variation in US Retail Electricity Price Growth**\n",
        "##### *Python for Public Policy - Final Project*\n",
        "##### *Ellen Wang*\n",
        "\n",
        "\n",
        "\n",
        "---\n",
        "\n",
        "\n",
        "---\n",
        "\n",
        "\n",
        "\n",
        "## **Introduction:**\n",
        "Amidst the AI craze of the past few years, there has been growing concern that the increased demand for electricity to power large data centers will pose a threat to energy accessibility and affordability. However, this concern with rising electricity prices is not new. A New Berkeley Lab report published early 2025 discusses how residential retail prices, post-2021, have been increasing faster than inflation, meaning that real prices of retail electricity for residential consumers has been increasing.\n",
        "\n",
        "However, what is interesting is that the increase in retail electricity price at the national level can not be attributed to increased demand, as retail electricity sales stayed relatively constant from 2019-2023 (Energy Markets and Policy Lab - Berkeley Lab 2025). The main area of increased cost from 2019-2024 was the augmentation of capital expenditures on distribution infrastructure as well as distribution operations and maintenance expenditures.\n",
        "\n",
        "Characteristics of distribution infrastructure and maintenance needs are likely to be unique to different grids in the US. Thus, for this project, I am interested in comparing residential retail electricity prices in two of the largest electricity grids in the US—CAISO (California) and ERCOT (Texas)—and that factors that could impact these price differentials.\n",
        "\n"
      ],
      "metadata": {
        "id": "Iy4_5fy6exix"
      }
    },
    {
      "cell_type": "markdown",
      "source": [
        "\n",
        "\n",
        "---\n",
        "\n",
        "\n",
        "## **Methodology:**"
      ],
      "metadata": {
        "id": "w27SCOvzoMN1"
      }
    },
    {
      "cell_type": "markdown",
      "source": [
        "\n",
        "\n",
        "---\n",
        "\n",
        "## **Results:**"
      ],
      "metadata": {
        "id": "cvj7dAQkqPvW"
      }
    },
    {
      "cell_type": "markdown",
      "source": [
        "\n",
        "\n",
        "---\n",
        "\n",
        "## **Conclusion & Discussion:**"
      ],
      "metadata": {
        "id": "l7UmWDE3qV_T"
      }
    }
  ]
}